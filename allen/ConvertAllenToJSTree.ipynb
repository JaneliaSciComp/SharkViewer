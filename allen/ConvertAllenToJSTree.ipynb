{
 "cells": [
  {
   "cell_type": "code",
   "execution_count": 27,
   "metadata": {
    "collapsed": true
   },
   "outputs": [],
   "source": [
    "import csv\n",
    "import json\n",
    "from os.path import isfile"
   ]
  },
  {
   "cell_type": "code",
   "execution_count": 29,
   "metadata": {
    "collapsed": false
   },
   "outputs": [
    {
     "name": "stdout",
     "output_type": "stream",
     "text": [
      "root\n"
     ]
    }
   ],
   "source": [
    "with open('query.csv') as fh:\n",
    "    mouse_allen = csv.reader(fh)\n",
    "    header = next(mouse_allen)\n",
    "    hidx = {name:idx for idx, name in enumerate(header)}\n",
    "    data = []\n",
    "    for i in mouse_allen:\n",
    "        my_id = i[hidx['id']]\n",
    "        if my_id == \"997\":\n",
    "            print(\"root\") \n",
    "            continue\n",
    "        my_name = i[hidx['name']]\n",
    "        my_parent = i[hidx['parent_structure_id']]\n",
    "        if not my_parent or my_parent == \"997\":\n",
    "            my_parent = \"#\"\n",
    "        my_color = i[hidx['color_hex_triplet']]\n",
    "        my_abbv = i[hidx['acronym']]\n",
    "        my_filename = \"{}_{}.obj\".format(my_abbv, my_id)\n",
    "        my_disabled = False\n",
    "        if not isfile(\"obj/\" + my_filename):\n",
    "            my_disabled = True\n",
    "        data.append({\n",
    "            \"id\": my_id,\n",
    "            \"parent\": my_parent,\n",
    "            \"text\": my_name,\n",
    "            \"color\": my_color,\n",
    "            \"filename\": my_filename,\n",
    "            \"state\": {\n",
    "                \"disabled\": my_disabled,\n",
    "            }\n",
    "        })\n",
    "\n",
    "with open(\"mouse_allen.json\", \"w\") as fh:\n",
    "    json.dump(data, fh)\n",
    "        "
   ]
  },
  {
   "cell_type": "code",
   "execution_count": null,
   "metadata": {
    "collapsed": true
   },
   "outputs": [],
   "source": []
  }
 ],
 "metadata": {
  "kernelspec": {
   "display_name": "Python 3",
   "language": "python",
   "name": "python3"
  },
  "language_info": {
   "codemirror_mode": {
    "name": "ipython",
    "version": 3
   },
   "file_extension": ".py",
   "mimetype": "text/x-python",
   "name": "python",
   "nbconvert_exporter": "python",
   "pygments_lexer": "ipython3",
   "version": "3.5.2"
  }
 },
 "nbformat": 4,
 "nbformat_minor": 0
}
